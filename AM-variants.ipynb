{
 "cells": [
  {
   "cell_type": "markdown",
   "metadata": {},
   "source": [
    "# Amplitude Modulation Variants"
   ]
  },
  {
   "cell_type": "code",
   "execution_count": null,
   "metadata": {},
   "outputs": [],
   "source": [
    "from math import sqrt\n",
    "from disiple.signals import AudioSignal, Spectrum\n",
    "from disiple.util import nextpow2\n",
    "import numpy as np\n",
    "from bokeh.plotting import show\n",
    "from bokeh.layouts import row, column, gridplot\n",
    "from bokeh.models import CustomJS, Slider, Div"
   ]
  },
  {
   "cell_type": "code",
   "execution_count": null,
   "metadata": {},
   "outputs": [],
   "source": [
    "samplerate = 22050\n",
    "duration = nextpow2(samplerate) / samplerate # at least 1 second\n",
    "times = np.arange(0, duration, 1/samplerate)"
   ]
  },
  {
   "attachments": {},
   "cell_type": "markdown",
   "metadata": {},
   "source": [
    "### Message Signal"
   ]
  },
  {
   "cell_type": "code",
   "execution_count": null,
   "metadata": {},
   "outputs": [],
   "source": [
    "amp_mod = 0.3\n",
    "freq_mod = 220/duration\n",
    "samples_mod = amp_mod * np.sin(2*np.pi*freq_mod*times)\n",
    "mod_signal = AudioSignal(samples_mod, samplerate)"
   ]
  },
  {
   "cell_type": "markdown",
   "metadata": {},
   "source": [
    "### Carrier Signal"
   ]
  },
  {
   "cell_type": "code",
   "execution_count": null,
   "metadata": {},
   "outputs": [],
   "source": [
    "amp_carr = 0.5\n",
    "freq_carr = 2000\n",
    "samples_carr = amp_carr * np.sin(2*np.pi*freq_carr*times)\n",
    "carr_signal = AudioSignal(samples_carr, samplerate)"
   ]
  },
  {
   "cell_type": "markdown",
   "metadata": {},
   "source": [
    "### Amplitude Modulation"
   ]
  },
  {
   "cell_type": "code",
   "execution_count": null,
   "metadata": {},
   "outputs": [],
   "source": [
    "mod_idx = amp_mod / amp_carr\n",
    "samples_am = (1 + samples_mod / amp_carr) * samples_carr\n",
    "am_signal = AudioSignal(samples_am, samplerate)\n",
    "am_spec = Spectrum.from_timesignal(am_signal, dB=False)"
   ]
  },
  {
   "cell_type": "code",
   "execution_count": null,
   "metadata": {},
   "outputs": [],
   "source": [
    "amp_dssc = sqrt(amp_carr**2/2 + amp_mod**2/4)\n",
    "samples_dssc = amp_dssc * np.cos(2*np.pi*(freq_carr-freq_mod)*times) - amp_dssc * np.cos(2*np.pi*(freq_carr+freq_mod)*times)\n",
    "dssc_signal = AudioSignal(samples_dssc, samplerate)\n",
    "dssc_spec = Spectrum.from_timesignal(dssc_signal, dB=False)"
   ]
  },
  {
   "cell_type": "code",
   "execution_count": null,
   "metadata": {},
   "outputs": [],
   "source": [
    "amp_ssb = sqrt(amp_carr**2 + amp_mod**2/2)\n",
    "samples_ssb = -amp_ssb * np.cos(2*np.pi*(freq_carr+freq_mod)*times)\n",
    "ssb_signal = AudioSignal(samples_ssb, samplerate)\n",
    "ssb_spec = Spectrum.from_timesignal(ssb_signal, dB=False)"
   ]
  },
  {
   "cell_type": "markdown",
   "metadata": {
    "tags": []
   },
   "source": [
    "### Create Figures"
   ]
  },
  {
   "cell_type": "code",
   "execution_count": null,
   "metadata": {},
   "outputs": [],
   "source": [
    "time_range = (0, 6/freq_mod) # show first 6 periods of signal = 6 * 1/freq_mod\n",
    "mag_range = (0, 0.27)\n",
    "min_freq_mod, max_freq_mod = freq_mod / 2, 2 * freq_mod\n",
    "freq_range = (freq_carr-max_freq_mod-5, freq_carr+max_freq_mod+5)\n",
    "\n",
    "am_fig = am_signal.plot(title='Double Side-Band Signal', x_range=time_range, active_inspect=None, line_color='olive')\n",
    "dssc_fig = dssc_signal.plot(title='Double Side-Band Suppressed Carrier Signal', x_range=time_range, active_inspect=None, line_color='purple')\n",
    "ssb_fig = ssb_signal.plot(title='Single Side-Band Signal', x_range=time_range, active_inspect=None, line_color='crimson')\n",
    "\n",
    "am_spec_fig = am_spec.plot(title='Magnitude Spectrum of DSB Signal', x_range=freq_range, y_range=mag_range, active_inspect=None, line_color='olive')\n",
    "dssc_spec_fig = dssc_spec.plot(title='Magnitude Spectrum of DSB-SC Signal', x_range=freq_range, y_range=mag_range, active_inspect=None, line_color='purple')\n",
    "ssb_spec_fig = ssb_spec.plot(title='Magnitude Spectrum of SSB Signal', x_range=freq_range, y_range=mag_range, active_inspect=None, line_color='crimson')\n",
    "\n",
    "mod_idx_div = Div(text=f'Modulation Factor: <b>{100*mod_idx:.0f}%</b>', width=80, height=10)"
   ]
  },
  {
   "attachments": {},
   "cell_type": "markdown",
   "metadata": {},
   "source": [
    "### Link time and frequency axes"
   ]
  },
  {
   "cell_type": "code",
   "execution_count": null,
   "metadata": {},
   "outputs": [],
   "source": [
    "from itertools import product\n",
    "def link_x_axes(figs):\n",
    "    for fig1, fig2 in product(figs, figs):\n",
    "        fig1.x_range.js_link('start', fig2.x_range, 'start')\n",
    "        fig1.x_range.js_link('end', fig2.x_range, 'end')\n",
    "link_x_axes({am_fig, dssc_fig, ssb_fig})\n",
    "link_x_axes({am_spec_fig, dssc_spec_fig, ssb_spec_fig})"
   ]
  },
  {
   "cell_type": "markdown",
   "metadata": {},
   "source": [
    "### Display figures"
   ]
  },
  {
   "cell_type": "code",
   "execution_count": null,
   "metadata": {},
   "outputs": [],
   "source": [
    "plot = row(\n",
    "    gridplot([am_fig, dssc_fig, ssb_fig], ncols=1, width=600),\n",
    "    gridplot([am_spec_fig, dssc_spec_fig, ssb_spec_fig], ncols=1, width=600),\n",
    ")\n",
    "show(plot)"
   ]
  },
  {
   "cell_type": "markdown",
   "metadata": {},
   "source": [
    "### Add Interaction"
   ]
  },
  {
   "cell_type": "code",
   "execution_count": null,
   "metadata": {},
   "outputs": [],
   "source": [
    "amp_mod_slider = Slider(start=0, end=0.5, value=amp_mod, step=.01, title='Message Amplitude')\n",
    "freq_mod_slider = Slider(start=min_freq_mod, end=max_freq_mod, value=freq_mod, step=10, title='Message Frequency')\n",
    "amp_carr_slider = Slider(start=0, end=0.5, value=amp_carr, step=.01, title='Carrier Amplitude')\n",
    "freq_carr_slider = Slider(start=1000, end=min(4000, samplerate/2-max_freq_mod), value=freq_carr, step=100, title='Carrier Frequency')\n",
    "\n",
    "callback = CustomJS(args=dict(amSource=am_fig.renderers[0].data_source,\n",
    "                              dsscSource=dssc_fig.renderers[0].data_source,\n",
    "                              ssbSource=ssb_fig.renderers[0].data_source,\n",
    "                              amSpecSource=am_spec_fig.renderers[0].data_source,\n",
    "                              dsscSpecSource=dssc_spec_fig.renderers[0].data_source,\n",
    "                              ssbSpecSource=ssb_spec_fig.renderers[0].data_source,\n",
    "                              samplerate=samplerate,\n",
    "                              ampModSlider=amp_mod_slider,\n",
    "                              freqModSlider=freq_mod_slider,\n",
    "                              ampCarrSlider=amp_carr_slider,\n",
    "                              freqCarrSlider=freq_carr_slider,\n",
    "                              modIdxDiv=mod_idx_div), code=\"\"\"\n",
    "    const ampMod = ampModSlider.value;\n",
    "    const ampCarr = ampCarrSlider.value;\n",
    "    const freqMod = freqModSlider.value;\n",
    "    const freqCarr = freqCarrSlider.value;\n",
    "    const modIdx = ampMod / ampCarr;\n",
    "\n",
    "    const amSamples = amSource.data.x.map((t) => Math.max(0, 1 + modIdx * Math.sin(2*Math.PI*freqMod*t)) * ampCarr * Math.sin(2*Math.PI*freqCarr*t));\n",
    "    amSource.data = {'x': amSource.data.x, 'y': amSamples};\n",
    "    const ampDssc = Math.sqrt(Math.pow(ampCarr, 2) / 2 + Math.pow(ampMod, 2) / 4);\n",
    "    const dsscSamples = dsscSource.data.x.map((t) => ampDssc * Math.cos(2*Math.PI*(freqCarr-freqMod)*t) - ampDssc * Math.cos(2*Math.PI*(freqCarr+freqMod)*t));\n",
    "    dsscSource.data = {'x': dsscSource.data.x, 'y': dsscSamples};\n",
    "    const ampSsb = Math.sqrt(Math.pow(ampCarr, 2) + Math.pow(ampMod, 2) / 2);\n",
    "    const ssbSamples = ssbSource.data.x.map((t) => -ampSsb * Math.cos(2*Math.PI*(freqCarr+freqMod)*t));\n",
    "    ssbSource.data = {'x': ssbSource.data.x, 'y': ssbSamples};\n",
    "    const modFactor = 100 * modIdx;\n",
    "    const style = modIdx > 1 ? 'style=\"color:red\"' : '';\n",
    "    modIdxDiv.text = `Modulation Factor: <b ${style}>${modFactor.toFixed(0)}%</b>`;\n",
    "\n",
    "    const freqs = fourier.rfftFreqs(samplerate);\n",
    "    amSpecSource.data = {'bin_unit': freqs, 'frequency': freqs, 'magnitude': fourier.magnitudeSpectrum(amSamples)};\n",
    "    dsscSpecSource.data = {'bin_unit': freqs, 'frequency': freqs, 'magnitude': fourier.magnitudeSpectrum(dsscSamples)};\n",
    "    ssbSpecSource.data = {'bin_unit': freqs, 'frequency': freqs, 'magnitude': fourier.magnitudeSpectrum(ssbSamples)};\n",
    "\"\"\")\n",
    "amp_mod_slider.js_on_change('value', callback)\n",
    "freq_mod_slider.js_on_change('value', callback)\n",
    "amp_carr_slider.js_on_change('value', callback)\n",
    "freq_carr_slider.js_on_change('value', callback)\n",
    "\n",
    "freq_carr_slider.js_on_change('value', CustomJS(args=dict(\n",
    "    amSpecRange=am_spec_fig.x_range, dsscSpecRange=dssc_spec_fig.x_range,\n",
    "    ssbSpecRange=ssb_spec_fig.x_range, maxFreqMod=max_freq_mod), code=\"\"\"\n",
    "    amSpecRange.start = cb_obj.value - maxFreqMod - 5;\n",
    "    amSpecRange.end = cb_obj.value + maxFreqMod + 5;\n",
    "    dsscSpecRange.start = cb_obj.value - maxFreqMod - 5;\n",
    "    dsscSpecRange.end = cb_obj.value + maxFreqMod + 5;\n",
    "    ssbSpecRange.start = cb_obj.value - maxFreqMod - 5;\n",
    "    ssbSpecRange.end = cb_obj.value + maxFreqMod + 5;\n",
    "\"\"\"))\n",
    "\n",
    "interative_plot = column(\n",
    "    row(amp_mod_slider, freq_mod_slider, amp_carr_slider, freq_carr_slider),\n",
    "    mod_idx_div,\n",
    "    row(\n",
    "        gridplot([am_fig, dssc_fig, ssb_fig], ncols=1, width=600),\n",
    "        gridplot([am_spec_fig, dssc_spec_fig, ssb_spec_fig], ncols=1, width=600),\n",
    "    ),\n",
    ")\n",
    "show(interative_plot)"
   ]
  },
  {
   "cell_type": "code",
   "execution_count": null,
   "metadata": {},
   "outputs": [],
   "source": [
    "from bokeh.plotting import save\n",
    "from bokeh.resources import INLINE\n",
    "template = f\"\"\"\n",
    "{{% block postamble %}}\n",
    "    <script src=\"fourier.js\"></script>\n",
    "    <script>const fourier = new Fourier({len(times)});</script>\n",
    "{{% endblock %}} \"\"\"\n",
    "save(interative_plot, filename='am-variants.html', title='Amplitude Modulation Variants', resources=INLINE, template=template)"
   ]
  },
  {
   "cell_type": "code",
   "execution_count": null,
   "metadata": {},
   "outputs": [],
   "source": []
  }
 ],
 "metadata": {
  "kernelspec": {
   "display_name": "Python 3 (ipykernel)",
   "language": "python",
   "name": "python3"
  },
  "language_info": {
   "codemirror_mode": {
    "name": "ipython",
    "version": 3
   },
   "file_extension": ".py",
   "mimetype": "text/x-python",
   "name": "python",
   "nbconvert_exporter": "python",
   "pygments_lexer": "ipython3",
   "version": "3.11.6"
  },
  "vscode": {
   "interpreter": {
    "hash": "e6da6f4d86ef4f519a6c275da41ee9fe88a8dc4690964d65fd688f7f44823bf0"
   }
  }
 },
 "nbformat": 4,
 "nbformat_minor": 4
}
