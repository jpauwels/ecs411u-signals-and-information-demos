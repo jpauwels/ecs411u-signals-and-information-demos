{
 "cells": [
  {
   "cell_type": "markdown",
   "metadata": {},
   "source": [
    "# Quadrature Phase Modulation"
   ]
  },
  {
   "cell_type": "code",
   "execution_count": null,
   "metadata": {},
   "outputs": [],
   "source": [
    "from disiple.signals import TimeSignal, Spectrum\n",
    "import numpy as np\n",
    "from bokeh.plotting import show\n",
    "from bokeh.layouts import row, column, gridplot"
   ]
  },
  {
   "cell_type": "code",
   "execution_count": null,
   "metadata": {},
   "outputs": [],
   "source": [
    "samples_per_bit = 1000\n",
    "bit_interval = 1e-9 # [seconds per bit]\n",
    "bit_rate = 1 / bit_interval # [bits per second]\n",
    "sample_rate = samples_per_bit * bit_rate # [samples per second=Hz]"
   ]
  },
  {
   "cell_type": "markdown",
   "metadata": {},
   "source": [
    "### Message Signal"
   ]
  },
  {
   "cell_type": "code",
   "execution_count": null,
   "metadata": {},
   "outputs": [],
   "source": [
    "bit_stream = [0, 0, 0, 1, 1, 0, 1, 1, 0]\n",
    "samples_mod = np.repeat(bit_stream, samples_per_bit)\n",
    "mod_signal = TimeSignal(samples_mod, sample_rate)\n",
    "mod_spec = Spectrum.from_timesignal(mod_signal, dB=False)"
   ]
  },
  {
   "cell_type": "markdown",
   "metadata": {},
   "source": [
    "### Split Message Signal in Two"
   ]
  },
  {
   "cell_type": "code",
   "execution_count": null,
   "metadata": {},
   "outputs": [],
   "source": [
    "padded_bit_stream = np.concatenate((bit_stream, [0]*(len(bit_stream) % 2)))\n",
    "\n",
    "in_phase_stream = padded_bit_stream[1::2]\n",
    "samples_in_phase = np.repeat(in_phase_stream, samples_per_bit)\n",
    "in_phase_signal = TimeSignal(samples_in_phase, sample_rate)\n",
    "in_phase_spec = Spectrum.from_timesignal(in_phase_signal, dB=False)\n",
    "\n",
    "quad_phase_stream = padded_bit_stream[0::2]\n",
    "samples_quad_phase = np.repeat(quad_phase_stream, samples_per_bit)\n",
    "quad_phase_signal = TimeSignal(samples_quad_phase, sample_rate)\n",
    "quad_phase_spec = Spectrum.from_timesignal(quad_phase_signal, dB=False)"
   ]
  },
  {
   "cell_type": "markdown",
   "metadata": {},
   "source": [
    "### Two Carrier Signals"
   ]
  },
  {
   "cell_type": "code",
   "execution_count": null,
   "metadata": {},
   "outputs": [],
   "source": [
    "amp_carr = 1\n",
    "freq_carr = 3 * bit_rate\n",
    "qpsk_times = np.arange(0, len(in_phase_stream) * bit_interval, 1 / sample_rate)\n",
    "\n",
    "samples_in_carr = amp_carr * np.sin(2*np.pi*freq_carr*qpsk_times)\n",
    "in_carr_signal = TimeSignal(samples_in_carr, sample_rate)\n",
    "in_carr_spec = Spectrum.from_timesignal(in_carr_signal, dB=False)\n",
    "\n",
    "samples_quad_carr = amp_carr * np.cos(2*np.pi*freq_carr*qpsk_times)\n",
    "quad_carr_signal = TimeSignal(samples_quad_carr, sample_rate)\n",
    "quad_carr_spec = Spectrum.from_timesignal(quad_carr_signal, dB=False)"
   ]
  },
  {
   "cell_type": "markdown",
   "metadata": {},
   "source": [
    "### Quadrature Phase Shift Keying"
   ]
  },
  {
   "cell_type": "code",
   "execution_count": null,
   "metadata": {},
   "outputs": [],
   "source": [
    "samples_in_bpsk = np.where(samples_in_phase == 1, samples_in_carr, -samples_in_carr)\n",
    "in_bpsk_signal = TimeSignal(samples_in_bpsk, sample_rate)\n",
    "in_bpsk_spec = Spectrum.from_timesignal(in_bpsk_signal, dB=False)\n",
    "\n",
    "samples_quad_bpsk = np.where(samples_quad_phase == 1, samples_quad_carr, -samples_quad_carr)\n",
    "quad_bpsk_signal = TimeSignal(samples_quad_bpsk, sample_rate)\n",
    "quad_bpsk_spec = Spectrum.from_timesignal(quad_bpsk_signal, dB=False)\n",
    "\n",
    "qpsk_signal = in_bpsk_signal + quad_bpsk_signal\n",
    "qpsk_spec = Spectrum.from_timesignal(qpsk_signal, dB=False)"
   ]
  },
  {
   "cell_type": "markdown",
   "metadata": {},
   "source": [
    "### Create Figures"
   ]
  },
  {
   "cell_type": "code",
   "execution_count": null,
   "metadata": {},
   "outputs": [],
   "source": [
    "mag_range = (0, amp_carr/2 * 1.05)\n",
    "freq_range = (0, 1.5e10)\n",
    "\n",
    "mod_fig = mod_signal.plot(title='Message Signal', active_inspect=None)\n",
    "mod_spec_fig = mod_spec.plot(title='Magnitude Spectrum of Message Signal', x_range=freq_range, y_range=mag_range, active_inspect=None)\n",
    "\n",
    "in_phase_fig = in_phase_signal.plot(title='In-Phase Message Signal', active_inspect=None, line_color='darkseagreen')\n",
    "in_phase_spec_fig = in_phase_spec.plot(title='Magnitude Spectrum of In-Phase Message Signal', x_range=freq_range, y_range=mag_range, active_inspect=None, line_color='darkseagreen')\n",
    "quad_phase_fig = quad_phase_signal.plot(title='Quadrature-Phase Message Signal', active_inspect=None, line_color='indianred')\n",
    "quad_phase_spec_fig = quad_phase_spec.plot(title='Magnitude Spectrum of Quadrature-Phase Message Signal', x_range=freq_range, y_range=mag_range, active_inspect=None, line_color='indianred')\n",
    "\n",
    "in_carr_fig = in_carr_signal.plot(title='In-Phase Carrier Signal', active_inspect=None, line_color='darkolivegreen')\n",
    "in_carr_spec_fig = in_carr_spec.plot(title='Magnitude Spectrum of In-Phase Carrier Signal', x_range=freq_range, y_range=mag_range, active_inspect=None, line_color='darkolivegreen')\n",
    "quad_carr_fig = quad_carr_signal.plot(title='Quadrature-Phase Carrier Signal', active_inspect=None, line_color='crimson')\n",
    "quad_carr_spec_fig = quad_carr_spec.plot(title='Magnitude Spectrum of Quadrature-Phase Carrier Signal', x_range=freq_range, y_range=mag_range, active_inspect=None, line_color='crimson')\n",
    "\n",
    "in_bpsk_fig = in_bpsk_signal.plot(title='In-Phase BPSK Signal', active_inspect=None, line_color='darkgreen')\n",
    "in_bpsk_spec_fig = in_bpsk_spec.plot(title='Magnitude Spectrum of In-Phase BPSK Signal', x_range=freq_range, y_range=mag_range, active_inspect=None, line_color='darkgreen')\n",
    "quad_bpsk_fig = quad_bpsk_signal.plot(title='Quadrature-Phase BPSK Signal', active_inspect=None, line_color='darkred')\n",
    "quad_bpsk_spec_fig = quad_bpsk_spec.plot(title='Magnitude Spectrum of Quadrature-Phase BPSK Signal', x_range=freq_range, y_range=mag_range, active_inspect=None, line_color='darkred')\n",
    "\n",
    "qpsk_fig = qpsk_signal.plot(title='QPSK Signal', active_inspect=None, line_color='darkgoldenrod')\n",
    "qpsk_spec_fig = qpsk_spec.plot(title='Magnitude Spectrum of QPSK Signal', x_range=freq_range, y_range=mag_range, active_inspect=None, line_color='darkgoldenrod')"
   ]
  },
  {
   "cell_type": "markdown",
   "metadata": {},
   "source": [
    "### Link Frequency Axes"
   ]
  },
  {
   "cell_type": "code",
   "execution_count": null,
   "metadata": {},
   "outputs": [],
   "source": [
    "from itertools import product\n",
    "def link_x_axes(figs):\n",
    "    for fig1, fig2 in product(figs, figs):\n",
    "        fig1.x_range.js_link('start', fig2.x_range, 'start')\n",
    "        fig1.x_range.js_link('end', fig2.x_range, 'end')\n",
    "link_x_axes({mod_spec_fig, in_phase_spec_fig, quad_phase_spec_fig, in_carr_spec_fig, quad_carr_spec_fig, in_bpsk_spec_fig, quad_bpsk_spec_fig, qpsk_spec_fig})"
   ]
  },
  {
   "cell_type": "markdown",
   "metadata": {},
   "source": [
    "### Display Figures"
   ]
  },
  {
   "cell_type": "code",
   "execution_count": null,
   "metadata": {},
   "outputs": [],
   "source": [
    "width = 700\n",
    "plot = column(\n",
    "    row(mod_fig, mod_spec_fig, width=width),\n",
    "    row(\n",
    "        gridplot([in_phase_fig, quad_phase_fig, in_carr_fig, quad_carr_fig, in_bpsk_fig, quad_bpsk_fig], ncols=2, width=width//2), \n",
    "        gridplot([in_phase_spec_fig, quad_phase_spec_fig, in_carr_spec_fig, quad_carr_spec_fig, in_bpsk_spec_fig, quad_bpsk_spec_fig], ncols=2, width=width//2),\n",
    "    ),\n",
    "    row(qpsk_fig, qpsk_spec_fig, width=width),\n",
    ")\n",
    "show(plot)"
   ]
  },
  {
   "cell_type": "code",
   "execution_count": null,
   "metadata": {},
   "outputs": [],
   "source": [
    "from bokeh.plotting import save\n",
    "from bokeh.resources import INLINE\n",
    "save(plot, filename='qpsk.html', title='Quadrature Phase Shift Keying', resources=INLINE)"
   ]
  },
  {
   "cell_type": "code",
   "execution_count": null,
   "metadata": {},
   "outputs": [],
   "source": []
  }
 ],
 "metadata": {
  "kernelspec": {
   "display_name": "Python 3 (ipykernel)",
   "language": "python",
   "name": "python3"
  },
  "language_info": {
   "codemirror_mode": {
    "name": "ipython",
    "version": 3
   },
   "file_extension": ".py",
   "mimetype": "text/x-python",
   "name": "python",
   "nbconvert_exporter": "python",
   "pygments_lexer": "ipython3",
   "version": "3.10.8"
  }
 },
 "nbformat": 4,
 "nbformat_minor": 4
}
