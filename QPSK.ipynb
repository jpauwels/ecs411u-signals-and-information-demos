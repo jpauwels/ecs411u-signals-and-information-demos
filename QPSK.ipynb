{
 "cells": [
  {
   "cell_type": "markdown",
   "metadata": {},
   "source": [
    "# Quadrature Phase Modulation"
   ]
  },
  {
   "cell_type": "code",
   "execution_count": null,
   "metadata": {},
   "outputs": [],
   "source": [
    "from disiple.signals import TimeSignal, Spectrum\n",
    "import numpy as np\n",
    "from bokeh.plotting import show\n",
    "from bokeh.layouts import row, column, gridplot\n",
    "from bokeh.models import CustomJS, Div, Slider, TextInput"
   ]
  },
  {
   "cell_type": "code",
   "execution_count": null,
   "metadata": {},
   "outputs": [],
   "source": [
    "samples_per_bit = 1000\n",
    "sample_rate = 22050 # [samples per second=Hz]\n",
    "bit_rate = sample_rate / samples_per_bit"
   ]
  },
  {
   "cell_type": "markdown",
   "metadata": {},
   "source": [
    "### Message Signal"
   ]
  },
  {
   "cell_type": "code",
   "execution_count": null,
   "metadata": {},
   "outputs": [],
   "source": [
    "bit_stream = [0, 0, 0, 1, 1, 0, 1, 1, 0]\n",
    "samples_mod = np.repeat(bit_stream, samples_per_bit)\n",
    "mod_signal = TimeSignal(samples_mod, sample_rate)\n",
    "mod_spec = Spectrum.from_timesignal(mod_signal, dB=False)"
   ]
  },
  {
   "cell_type": "markdown",
   "metadata": {},
   "source": [
    "### Split Message Signal in Two"
   ]
  },
  {
   "cell_type": "code",
   "execution_count": null,
   "metadata": {},
   "outputs": [],
   "source": [
    "if len(bit_stream) % 2 == 1:\n",
    "    bit_stream.append(0)\n",
    "in_phase_stream = bit_stream[1::2]\n",
    "samples_in_phase = np.repeat(in_phase_stream, samples_per_bit)\n",
    "in_phase_signal = TimeSignal(samples_in_phase, sample_rate)\n",
    "in_phase_spec = Spectrum.from_timesignal(in_phase_signal, dB=False)\n",
    "\n",
    "quad_phase_stream = bit_stream[0::2]\n",
    "samples_quad_phase = np.repeat(quad_phase_stream, samples_per_bit)\n",
    "quad_phase_signal = TimeSignal(samples_quad_phase, sample_rate)\n",
    "quad_phase_spec = Spectrum.from_timesignal(quad_phase_signal, dB=False)"
   ]
  },
  {
   "cell_type": "markdown",
   "metadata": {},
   "source": [
    "### Two Carrier Signals"
   ]
  },
  {
   "cell_type": "code",
   "execution_count": null,
   "metadata": {},
   "outputs": [],
   "source": [
    "amp_carr = 1\n",
    "freq_carr = 150\n",
    "qpsk_times = np.arange(0, len(samples_in_phase)) / sample_rate\n",
    "\n",
    "samples_in_carr = amp_carr * np.sin(2*np.pi*freq_carr*qpsk_times)\n",
    "in_carr_signal = TimeSignal(samples_in_carr, sample_rate)\n",
    "in_carr_spec = Spectrum.from_timesignal(in_carr_signal, dB=False)\n",
    "\n",
    "samples_quad_carr = amp_carr * np.cos(2*np.pi*freq_carr*qpsk_times)\n",
    "quad_carr_signal = TimeSignal(samples_quad_carr, sample_rate)\n",
    "quad_carr_spec = Spectrum.from_timesignal(quad_carr_signal, dB=False)"
   ]
  },
  {
   "cell_type": "markdown",
   "metadata": {},
   "source": [
    "### Quadrature Phase Shift Keying"
   ]
  },
  {
   "cell_type": "code",
   "execution_count": null,
   "metadata": {},
   "outputs": [],
   "source": [
    "samples_in_bpsk = np.where(samples_in_phase == 1, samples_in_carr, -samples_in_carr)\n",
    "in_bpsk_signal = TimeSignal(samples_in_bpsk, sample_rate)\n",
    "in_bpsk_spec = Spectrum.from_timesignal(in_bpsk_signal, dB=False)\n",
    "\n",
    "samples_quad_bpsk = np.where(samples_quad_phase == 1, samples_quad_carr, -samples_quad_carr)\n",
    "quad_bpsk_signal = TimeSignal(samples_quad_bpsk, sample_rate)\n",
    "quad_bpsk_spec = Spectrum.from_timesignal(quad_bpsk_signal, dB=False)\n",
    "\n",
    "qpsk_signal = in_bpsk_signal + quad_bpsk_signal\n",
    "qpsk_spec = Spectrum.from_timesignal(qpsk_signal, dB=False)"
   ]
  },
  {
   "cell_type": "markdown",
   "metadata": {},
   "source": [
    "### Create Figures"
   ]
  },
  {
   "cell_type": "code",
   "execution_count": null,
   "metadata": {},
   "outputs": [],
   "source": [
    "amp_range = (-0.04, 1.04)\n",
    "mag_range = (0, amp_carr/2 * 1.05)\n",
    "freq_range = (0, 300)\n",
    "\n",
    "mod_fig = mod_signal.plot(title='Message Signal', y_range=amp_range, active_inspect=None)\n",
    "mod_spec_fig = mod_spec.plot(title='Magnitude Spectrum of Message Signal', x_range=freq_range, y_range=mag_range, active_inspect=None)\n",
    "\n",
    "in_phase_fig = in_phase_signal.plot(title='In-Phase Message Signal', y_range=amp_range, active_inspect=None, line_color='darkseagreen')\n",
    "in_phase_spec_fig = in_phase_spec.plot(title='Magnitude Spectrum of In-Phase Message Signal', x_range=freq_range, y_range=mag_range, active_inspect=None, line_color='darkseagreen')\n",
    "quad_phase_fig = quad_phase_signal.plot(title='Quadrature-Phase Message Signal', y_range=amp_range, active_inspect=None, line_color='indianred')\n",
    "quad_phase_spec_fig = quad_phase_spec.plot(title='Magnitude Spectrum of Quadrature-Phase Message Signal', x_range=freq_range, y_range=mag_range, active_inspect=None, line_color='indianred')\n",
    "\n",
    "in_carr_fig = in_carr_signal.plot(title='In-Phase Carrier Signal', active_inspect=None, line_color='darkolivegreen')\n",
    "in_carr_spec_fig = in_carr_spec.plot(title='Magnitude Spectrum of In-Phase Carrier Signal', x_range=freq_range, y_range=mag_range, active_inspect=None, line_color='darkolivegreen')\n",
    "quad_carr_fig = quad_carr_signal.plot(title='Quadrature-Phase Carrier Signal', active_inspect=None, line_color='crimson')\n",
    "quad_carr_spec_fig = quad_carr_spec.plot(title='Magnitude Spectrum of Quadrature-Phase Carrier Signal', x_range=freq_range, y_range=mag_range, active_inspect=None, line_color='crimson')\n",
    "\n",
    "in_bpsk_fig = in_bpsk_signal.plot(title='In-Phase BPSK Signal', active_inspect=None, line_color='darkgreen')\n",
    "in_bpsk_spec_fig = in_bpsk_spec.plot(title='Magnitude Spectrum of In-Phase BPSK Signal', x_range=freq_range, y_range=mag_range, active_inspect=None, line_color='darkgreen')\n",
    "quad_bpsk_fig = quad_bpsk_signal.plot(title='Quadrature-Phase BPSK Signal', active_inspect=None, line_color='darkred')\n",
    "quad_bpsk_spec_fig = quad_bpsk_spec.plot(title='Magnitude Spectrum of Quadrature-Phase BPSK Signal', x_range=freq_range, y_range=mag_range, active_inspect=None, line_color='darkred')\n",
    "\n",
    "qpsk_fig = qpsk_signal.plot(title='QPSK Signal', active_inspect=None, line_color='darkgoldenrod')\n",
    "qpsk_spec_fig = qpsk_spec.plot(title='Magnitude Spectrum of QPSK Signal', x_range=freq_range, y_range=mag_range, active_inspect=None, line_color='darkgoldenrod')"
   ]
  },
  {
   "cell_type": "markdown",
   "metadata": {},
   "source": [
    "### Link Frequency Axes"
   ]
  },
  {
   "cell_type": "code",
   "execution_count": null,
   "metadata": {},
   "outputs": [],
   "source": [
    "from itertools import product\n",
    "def link_x_axes(figs):\n",
    "    for fig1, fig2 in product(figs, figs):\n",
    "        fig1.x_range.js_link('start', fig2.x_range, 'start')\n",
    "        fig1.x_range.js_link('end', fig2.x_range, 'end')\n",
    "link_x_axes({in_phase_spec_fig, quad_phase_spec_fig, in_carr_spec_fig, quad_carr_spec_fig, in_bpsk_spec_fig, quad_bpsk_spec_fig, qpsk_spec_fig})\n",
    "link_x_axes({in_phase_fig, quad_phase_fig, in_carr_fig, quad_carr_fig, in_bpsk_fig, quad_bpsk_fig, qpsk_fig})"
   ]
  },
  {
   "cell_type": "markdown",
   "metadata": {},
   "source": [
    "### Display Figures"
   ]
  },
  {
   "cell_type": "code",
   "execution_count": null,
   "metadata": {},
   "outputs": [],
   "source": [
    "width = 700\n",
    "plot = column(\n",
    "    row(mod_fig, mod_spec_fig, width=width),\n",
    "    row(\n",
    "        gridplot([in_phase_fig, quad_phase_fig, in_carr_fig, quad_carr_fig, in_bpsk_fig, quad_bpsk_fig], ncols=2, width=width//2), \n",
    "        gridplot([in_phase_spec_fig, quad_phase_spec_fig, in_carr_spec_fig, quad_carr_spec_fig, in_bpsk_spec_fig, quad_bpsk_spec_fig], ncols=2, width=width//2),\n",
    "    ),\n",
    "    row(qpsk_fig, qpsk_spec_fig, width=width),\n",
    ")\n",
    "show(plot)"
   ]
  },
  {
   "cell_type": "markdown",
   "metadata": {},
   "source": [
    "### Add Interaction"
   ]
  },
  {
   "cell_type": "code",
   "execution_count": null,
   "metadata": {},
   "outputs": [],
   "source": [
    "bit_input = TextInput(value=','.join([str(bit) for bit in bit_stream]), title='Message:')\n",
    "samples_per_bit_slider = Slider(start=500, end=1500, value=samples_per_bit, step=1, title='Samples per bit')\n",
    "freq_carr_slider = Slider(start=50, end=250, value=freq_carr, step=1, title='Carrier Frequency')\n",
    "bit_rate_div = Div(text=f'Bit rate: <b>{bit_rate:.2f} bps</b>', width=80, height=10)\n",
    "\n",
    "callback = CustomJS(args=dict(\n",
    "    modSource=mod_fig.renderers[0].data_source,\n",
    "    modSpecSource=mod_spec_fig.renderers[0].data_source,\n",
    "    inPhaseSource=in_phase_fig.renderers[0].data_source,\n",
    "    inPhaseSpecSource=in_phase_spec_fig.renderers[0].data_source,\n",
    "    quadPhaseSource=quad_phase_fig.renderers[0].data_source,\n",
    "    quadPhaseSpecSource=quad_phase_spec_fig.renderers[0].data_source,\n",
    "    inCarrSource=in_carr_fig.renderers[0].data_source,\n",
    "    inCarrSpecSource=in_carr_spec_fig.renderers[0].data_source,\n",
    "    quadCarrSource=quad_carr_fig.renderers[0].data_source,\n",
    "    quadCarrSpecSource=quad_carr_spec_fig.renderers[0].data_source,\n",
    "    inBpskSource=in_bpsk_fig.renderers[0].data_source,\n",
    "    inBpskSpecSource=in_bpsk_spec_fig.renderers[0].data_source,\n",
    "    quadBpskSource=quad_bpsk_fig.renderers[0].data_source,\n",
    "    quadBpskSpecSource=quad_bpsk_spec_fig.renderers[0].data_source,\n",
    "    qpskSource=qpsk_fig.renderers[0].data_source,\n",
    "    qpskSpecSource=qpsk_spec_fig.renderers[0].data_source,\n",
    "    ampCarr=amp_carr,\n",
    "    sampleRate=sample_rate,\n",
    "    bitInput=bit_input,\n",
    "    samplesPerBitSlider=samples_per_bit_slider,\n",
    "    freqCarrSlider=freq_carr_slider,\n",
    "    bitRateDiv=bit_rate_div,\n",
    "    ), code=\"\"\"\n",
    "    const samplesPerBit = samplesPerBitSlider.value;\n",
    "    const bitRate = sampleRate / samplesPerBit;\n",
    "    bitRateDiv.text = `Bit rate: <b>${bitRate.toFixed(2)} bps</b>`;\n",
    "    \n",
    "    let bitStream = bitInput.value.split(\",\").map(Number);\n",
    "    const bitSamples = [].concat(...bitStream.map((el) => Array(samplesPerBit).fill(el)));\n",
    "    if (bitStream.length % 2 === 1) {\n",
    "        bitStream.push(0);\n",
    "    }\n",
    "    const inPhaseStream = bitStream.filter((el, idx) => idx % 2 === 1);\n",
    "    const inPhaseSamples = [].concat(...inPhaseStream.map((el) => Array(samplesPerBit).fill(el)));\n",
    "    const quadPhaseStream = bitStream.filter((el, idx) => idx % 2 === 0);\n",
    "    const quadPhaseSamples = [].concat(...quadPhaseStream.map((el) => Array(samplesPerBit).fill(el)));\n",
    "\n",
    "    const bitTimeStamps = bitSamples.map((_, idx) => idx/sampleRate);\n",
    "    const qpskTimeStamps = inPhaseSamples.map((_, idx) => idx/sampleRate);\n",
    "    const freqCarr = freqCarrSlider.value;\n",
    "    const inCarrSamples = sineWave(qpskTimeStamps, ampCarr, freqCarr);\n",
    "    const quadCarrSamples = cosineWave(qpskTimeStamps, ampCarr, freqCarr);\n",
    "\n",
    "    const inBpskSamples = inPhaseSamples.map((bit, idx) => bit != 0 ? inCarrSamples[idx] : -inCarrSamples[idx]);\n",
    "    const quadBpskSamples = quadPhaseSamples.map((bit, idx) => bit != 0 ? quadCarrSamples[idx] : -quadCarrSamples[idx]);\n",
    "    const qpskSamples = inBpskSamples.map((el, idx) => el + quadBpskSamples[idx]);\n",
    "    \n",
    "    modSource.data = {'x': bitTimeStamps, 'y': bitSamples};\n",
    "    inPhaseSource.data = {'x': qpskTimeStamps, 'y': inPhaseSamples};\n",
    "    quadPhaseSource.data = {'x': qpskTimeStamps, 'y': quadPhaseSamples};\n",
    "    inCarrSource.data = {'x': qpskTimeStamps, 'y': inCarrSamples};\n",
    "    quadCarrSource.data = {'x': qpskTimeStamps, 'y': quadCarrSamples};\n",
    "    inBpskSource.data = {'x': qpskTimeStamps, 'y': inBpskSamples};\n",
    "    quadBpskSource.data = {'x': qpskTimeStamps, 'y': quadBpskSamples};\n",
    "    qpskSource.data = {'x': qpskTimeStamps, 'y': qpskSamples};\n",
    "\n",
    "    const fourier = new Fourier(nextpow2(bitSamples.length));\n",
    "    const freqs = fourier.rfftFreqs(sampleRate);\n",
    "    modSpecSource.data = {'bin_unit': freqs, 'frequency': freqs, 'magnitude': fourier.magnitudeSpectrum(bitSamples)};\n",
    "    \n",
    "    const qpskFourier = new Fourier(nextpow2(qpskSamples.length));\n",
    "    const qpskFreqs = qpskFourier.rfftFreqs(sampleRate);\n",
    "    inPhaseSpecSource.data = {'bin_unit': qpskFreqs, 'frequency': qpskFreqs, 'magnitude': qpskFourier.magnitudeSpectrum(inPhaseSamples)};\n",
    "    quadPhaseSpecSource.data = {'bin_unit': qpskFreqs, 'frequency': qpskFreqs, 'magnitude': qpskFourier.magnitudeSpectrum(quadPhaseSamples)};\n",
    "    inCarrSpecSource.data = {'bin_unit': qpskFreqs, 'frequency': qpskFreqs, 'magnitude': qpskFourier.magnitudeSpectrum(inCarrSamples)};\n",
    "    quadCarrSpecSource.data = {'bin_unit': qpskFreqs, 'frequency': qpskFreqs, 'magnitude': qpskFourier.magnitudeSpectrum(quadCarrSamples)};\n",
    "    inBpskSpecSource.data = {'bin_unit': qpskFreqs, 'frequency': qpskFreqs, 'magnitude': qpskFourier.magnitudeSpectrum(inBpskSamples)};\n",
    "    quadBpskSpecSource.data = {'bin_unit': qpskFreqs, 'frequency': qpskFreqs, 'magnitude': qpskFourier.magnitudeSpectrum(quadBpskSamples)};\n",
    "    qpskSpecSource.data = {'bin_unit': qpskFreqs, 'frequency': qpskFreqs, 'magnitude': qpskFourier.magnitudeSpectrum(qpskSamples)};\n",
    "\"\"\")\n",
    "bit_input.js_on_change('value', callback)\n",
    "samples_per_bit_slider.js_on_change('value', callback)\n",
    "freq_carr_slider.js_on_change('value', callback)\n",
    "\n",
    "width = 700\n",
    "interactive_plot = column(\n",
    "    row(bit_input, samples_per_bit_slider, freq_carr_slider, bit_rate_div, width=width),\n",
    "    row(mod_fig, mod_spec_fig, width=width),\n",
    "    row(\n",
    "        gridplot([in_phase_fig, quad_phase_fig, in_carr_fig, quad_carr_fig, in_bpsk_fig, quad_bpsk_fig], ncols=2, width=width//2), \n",
    "        gridplot([in_phase_spec_fig, quad_phase_spec_fig, in_carr_spec_fig, quad_carr_spec_fig, in_bpsk_spec_fig, quad_bpsk_spec_fig], ncols=2, width=width//2),\n",
    "    ),\n",
    "    row(qpsk_fig, qpsk_spec_fig, width=width),\n",
    ")\n",
    "show(interactive_plot)"
   ]
  },
  {
   "cell_type": "code",
   "execution_count": null,
   "metadata": {},
   "outputs": [],
   "source": [
    "from bokeh.plotting import save\n",
    "from bokeh.resources import INLINE\n",
    "template = f\"\"\"\n",
    "{{% block postamble %}}\n",
    "    <script src=\"fourier.js\"></script>\n",
    "    <script src=\"modulation-schemes.js\"></script>\n",
    "{{% endblock %}} \"\"\"\n",
    "save(interactive_plot, filename='qpsk.html', title='Quadrature Phase Shift Keying', resources=INLINE, template=template)"
   ]
  },
  {
   "cell_type": "code",
   "execution_count": null,
   "metadata": {},
   "outputs": [],
   "source": []
  }
 ],
 "metadata": {
  "kernelspec": {
   "display_name": "Python 3 (ipykernel)",
   "language": "python",
   "name": "python3"
  },
  "language_info": {
   "codemirror_mode": {
    "name": "ipython",
    "version": 3
   },
   "file_extension": ".py",
   "mimetype": "text/x-python",
   "name": "python",
   "nbconvert_exporter": "python",
   "pygments_lexer": "ipython3",
   "version": "3.11.6"
  }
 },
 "nbformat": 4,
 "nbformat_minor": 4
}
