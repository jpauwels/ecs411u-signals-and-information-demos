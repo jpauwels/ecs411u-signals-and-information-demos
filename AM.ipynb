{
 "cells": [
  {
   "cell_type": "markdown",
   "metadata": {},
   "source": [
    "# Amplitude Modulation"
   ]
  },
  {
   "cell_type": "code",
   "execution_count": null,
   "metadata": {},
   "outputs": [],
   "source": [
    "from disiple.signals import AudioSignal, TimeSignal, PowerSpectrum\n",
    "from disiple.util import nextpow2\n",
    "import numpy as np\n",
    "from bokeh.plotting import show\n",
    "from bokeh.layouts import row, column, gridplot\n",
    "from bokeh.models import CustomJS, Slider, Div"
   ]
  },
  {
   "cell_type": "code",
   "execution_count": null,
   "metadata": {},
   "outputs": [],
   "source": [
    "samplerate = 8000\n",
    "duration = nextpow2(samplerate) / samplerate # at least 1 second\n",
    "times = np.arange(0, duration, 1/samplerate)"
   ]
  },
  {
   "attachments": {},
   "cell_type": "markdown",
   "metadata": {},
   "source": [
    "### Message Signal"
   ]
  },
  {
   "cell_type": "code",
   "execution_count": null,
   "metadata": {},
   "outputs": [],
   "source": [
    "amp_mod = 0.3\n",
    "freq_mod = 220/duration\n",
    "samples_mod = amp_mod * np.sin(2*np.pi*freq_mod*times)\n",
    "mod_signal = AudioSignal(samples_mod, samplerate)"
   ]
  },
  {
   "cell_type": "markdown",
   "metadata": {},
   "source": [
    "### Carrier Signal"
   ]
  },
  {
   "cell_type": "code",
   "execution_count": null,
   "metadata": {},
   "outputs": [],
   "source": [
    "amp_carr = 0.5\n",
    "freq_carr = 2000\n",
    "samples_carr = amp_carr * np.sin(2*np.pi*freq_carr*times)\n",
    "carr_signal = AudioSignal(samples_carr, samplerate)"
   ]
  },
  {
   "cell_type": "markdown",
   "metadata": {},
   "source": [
    "### Amplitude Modulation"
   ]
  },
  {
   "cell_type": "code",
   "execution_count": null,
   "metadata": {},
   "outputs": [],
   "source": [
    "mod_idx = amp_mod / amp_carr\n",
    "samples_shifted_mod = np.maximum(0, 1 + samples_mod / amp_carr)\n",
    "shifted_mod_signal = TimeSignal(samples_shifted_mod, samplerate)"
   ]
  },
  {
   "cell_type": "code",
   "execution_count": null,
   "metadata": {},
   "outputs": [],
   "source": [
    "samples_am = samples_shifted_mod * samples_carr\n",
    "am_signal = AudioSignal(samples_am, samplerate)\n",
    "am_pspec = PowerSpectrum.from_timesignal(am_signal, dB=True)"
   ]
  },
  {
   "cell_type": "code",
   "execution_count": null,
   "metadata": {},
   "outputs": [],
   "source": [
    "desired_env_signal = TimeSignal(samples_mod + amp_carr, samplerate)\n",
    "true_env_signal = am_signal.envelope()"
   ]
  },
  {
   "cell_type": "markdown",
   "metadata": {},
   "source": [
    "### Demodulation"
   ]
  },
  {
   "cell_type": "code",
   "execution_count": null,
   "metadata": {},
   "outputs": [],
   "source": [
    "demod_signal = AudioSignal(true_env_signal.data - amp_carr, samplerate)\n",
    "demod_pspec = PowerSpectrum.from_timesignal(demod_signal)"
   ]
  },
  {
   "cell_type": "markdown",
   "metadata": {
    "tags": []
   },
   "source": [
    "### Create Figures"
   ]
  },
  {
   "cell_type": "code",
   "execution_count": null,
   "metadata": {},
   "outputs": [],
   "source": [
    "time_range = (0, 6/freq_mod) # show first 6 periods of signal = 6 * 1/freq_mod\n",
    "dB_range = (-60, -10)\n",
    "min_freq_mod, max_freq_mod = freq_mod / 2, 2 * freq_mod\n",
    "freq_range = (freq_carr-max_freq_mod-5, freq_carr+max_freq_mod+5)\n",
    "\n",
    "mod_fig = mod_signal.plot(title='Message Signal', x_range=time_range, active_inspect=None) \n",
    "carr_fig = carr_signal.plot(title='Carrier Signal', x_range=time_range, active_inspect=None, line_color='olive')\n",
    "shifted_mod_fig = shifted_mod_signal.plot(title='Scaled & Shifted Message Signal', x_range=time_range, active_inspect=None, tools=[])\n",
    "\n",
    "am_fig = am_signal.plot(title='Amplitude Modulated Signal', x_range=time_range, active_inspect=None, line_color='olive', legend_label='AM Signal')\n",
    "am_fig.legend.location = 'bottom_right'\n",
    "am_fig.legend.click_policy = 'hide'\n",
    "desired_env_signal.plot(fig=am_fig, active_inspect=None, legend_label='Desired Envelope', line_dash='dashed')\n",
    "true_env_signal.plot(fig=am_fig, active_inspect=None, legend_label='True Envelope', line_color='crimson', line_dash='dashed', line_dash_offset=30)\n",
    "\n",
    "pspec_fig = am_pspec.plot(title='Power Spectrum of Amplitude Modulated Signal', x_range=freq_range, y_range=dB_range, active_inspect=None, line_color='purple')\n",
    "\n",
    "demod_fig = demod_signal.plot(title='Demodulated Signal', x_range=time_range, active_inspect=None, line_color='crimson')\n",
    "demod_pspec_fig = demod_pspec.plot(title='Power Spectrum of Demodulated Signal', y_range=dB_range, active_inspect=None, line_color='crimson')\n",
    "\n",
    "mod_idx_div = Div(text='Modulation Factor: <b {}>{:.0f}%</b>'.format('style=\"color:red\"' if mod_idx > 1 else '', 100*mod_idx), width=80, height=10)"
   ]
  },
  {
   "cell_type": "markdown",
   "metadata": {},
   "source": [
    "### Link time axes"
   ]
  },
  {
   "cell_type": "code",
   "execution_count": null,
   "metadata": {},
   "outputs": [],
   "source": [
    "from itertools import product\n",
    "temporal_figs = {mod_fig, carr_fig, shifted_mod_fig, am_fig, demod_fig}\n",
    "for fig1, fig2 in product(temporal_figs, temporal_figs):\n",
    "    fig1.x_range.js_link('start', fig2.x_range, 'start')\n",
    "    fig1.x_range.js_link('end', fig2.x_range, 'end')"
   ]
  },
  {
   "cell_type": "markdown",
   "metadata": {},
   "source": [
    "### Display figures"
   ]
  },
  {
   "cell_type": "code",
   "execution_count": null,
   "metadata": {},
   "outputs": [],
   "source": [
    "plot = column(\n",
    "    gridplot([mod_fig, carr_fig, shifted_mod_fig, am_fig], ncols=2, width=600), \n",
    "    row(pspec_fig, mod_idx_div),\n",
    "    row(demod_fig, demod_pspec_fig, width=600),\n",
    ")\n",
    "show(plot)"
   ]
  },
  {
   "cell_type": "markdown",
   "metadata": {},
   "source": [
    "### Add Interaction"
   ]
  },
  {
   "cell_type": "code",
   "execution_count": null,
   "metadata": {},
   "outputs": [],
   "source": [
    "amp_mod_slider = Slider(start=0, end=0.5, value=amp_mod, step=.01, title='Message Amplitude')\n",
    "freq_mod_slider = Slider(start=min_freq_mod, end=max_freq_mod, value=freq_mod, step=10, title='Message Frequency')\n",
    "amp_carr_slider = Slider(start=0.01, end=0.5, value=amp_carr, step=.01, title='Carrier Amplitude')\n",
    "freq_carr_slider = Slider(start=1000, end=min(4000, samplerate/2-max_freq_mod), value=freq_carr, step=100, title='Carrier Frequency')\n",
    "\n",
    "callback = CustomJS(args=dict(modSource=mod_fig.renderers[0].data_source,\n",
    "                              carrSource=carr_fig.renderers[0].data_source,\n",
    "                              shiftedModSource=shifted_mod_fig.renderers[0].data_source,\n",
    "                              amSource=am_fig.renderers[0].data_source,\n",
    "                              desiredEnvSource=am_fig.renderers[1].data_source,\n",
    "                              trueEnvSource=am_fig.renderers[2].data_source,\n",
    "                              freqSource=pspec_fig.renderers[0].data_source,\n",
    "                              demodSource=demod_fig.renderers[0].data_source,\n",
    "                              demodPspecSource=demod_pspec_fig.renderers[0].data_source,\n",
    "                              samplerate=samplerate,\n",
    "                              ampModSlider=amp_mod_slider,\n",
    "                              freqModSlider=freq_mod_slider,\n",
    "                              ampCarrSlider=amp_carr_slider,\n",
    "                              freqCarrSlider=freq_carr_slider,\n",
    "                              modIdxDiv=mod_idx_div), code=\"\"\"\n",
    "    const ampMod = ampModSlider.value;\n",
    "    const ampCarr = ampCarrSlider.value;\n",
    "    const freqMod = freqModSlider.value;\n",
    "    const freqCarr = freqCarrSlider.value;\n",
    "    const modIdx = ampMod / ampCarr;\n",
    "\n",
    "    const modSamples = modSource.data.x.map((t) => ampMod * Math.sin(2*Math.PI*freqMod*t));\n",
    "    modSource.data = {'x': modSource.data.x, 'y': modSamples};\n",
    "    const carrSamples = carrSource.data.x.map((t) => ampCarr * Math.sin(2*Math.PI*freqCarr*t));\n",
    "    carrSource.data = {'x': carrSource.data.x, 'y': carrSamples};\n",
    "    const shiftedModSamples = modSamples.map((t) => Math.max(0, 1 + t / ampCarr));\n",
    "    shiftedModSource.data = {'x': shiftedModSource.data.x, 'y': shiftedModSamples};\n",
    "    const amSamples = shiftedModSamples.map((mod, idx) => mod * carrSamples[idx]);\n",
    "    amSource.data = {'x': amSource.data.x, 'y': amSamples};\n",
    "    desiredEnvSource.data = {'x': desiredEnvSource.data.x, 'y': modSamples.map((t) => t + ampCarr)};\n",
    "    const modFactor = 100 * modIdx;\n",
    "    const style = modIdx > 1 ? 'style=\"color:red\"' : '';\n",
    "    modIdxDiv.text = `Modulation Factor: <b ${style}>${modFactor.toFixed(0)}%</b>`;\n",
    "\n",
    "    const freqs = fourier.rfftFreqs(samplerate);\n",
    "    freqSource.data = {'bin_unit': freqs, 'frequency': freqs, 'magnitude': fourier.dBSpectrum(amSamples)};\n",
    "    \n",
    "    const envSamples = fourier.envelope(amSamples);\n",
    "    trueEnvSource.data = {'x': trueEnvSource.data.x, 'y': envSamples};\n",
    "    const demodSamples = envSamples.map((t) => t - ampCarr);\n",
    "    demodSource.data = {'x': demodSource.data.x, 'y': demodSamples};\n",
    "    demodPspecSource.data = {'bin_unit': freqs, 'frequency': freqs, 'magnitude': fourier.dBSpectrum(demodSamples)};\n",
    "\"\"\")\n",
    "amp_mod_slider.js_on_change('value', callback)\n",
    "freq_mod_slider.js_on_change('value', callback)\n",
    "amp_carr_slider.js_on_change('value', callback)\n",
    "freq_carr_slider.js_on_change('value', callback)\n",
    "\n",
    "freq_carr_slider.js_on_change('value', CustomJS(args=dict(freqRange=pspec_fig.x_range, maxFreqMod=max_freq_mod), code=\"\"\"\n",
    "    freqRange.start = cb_obj.value - maxFreqMod - 5;\n",
    "    freqRange.end = cb_obj.value + maxFreqMod + 5;\n",
    "\"\"\"))\n",
    "\n",
    "interative_plot = column(\n",
    "    gridplot([mod_fig, carr_fig, shifted_mod_fig, am_fig], ncols=2, width=600),\n",
    "    row(pspec_fig, column(amp_mod_slider, freq_mod_slider, amp_carr_slider, freq_carr_slider, mod_idx_div)),\n",
    "    row(demod_fig, demod_pspec_fig, width=600),\n",
    ")\n",
    "show(interative_plot)"
   ]
  },
  {
   "cell_type": "code",
   "execution_count": null,
   "metadata": {},
   "outputs": [],
   "source": [
    "from bokeh.plotting import save\n",
    "from bokeh.resources import INLINE\n",
    "template = f\"\"\"\n",
    "{{% block postamble %}}\n",
    "    <script src=\"fourier.js\"></script>\n",
    "    <script>const fourier = new Fourier({len(times)});</script>\n",
    "{{% endblock %}} \"\"\"\n",
    "save(interative_plot, filename='am.html', title='Amplitude Modulation', resources=INLINE, template=template)"
   ]
  },
  {
   "cell_type": "code",
   "execution_count": null,
   "metadata": {},
   "outputs": [],
   "source": []
  }
 ],
 "metadata": {
  "kernelspec": {
   "display_name": "Python 3 (ipykernel)",
   "language": "python",
   "name": "python3"
  },
  "language_info": {
   "codemirror_mode": {
    "name": "ipython",
    "version": 3
   },
   "file_extension": ".py",
   "mimetype": "text/x-python",
   "name": "python",
   "nbconvert_exporter": "python",
   "pygments_lexer": "ipython3",
   "version": "3.10.8"
  },
  "vscode": {
   "interpreter": {
    "hash": "e6da6f4d86ef4f519a6c275da41ee9fe88a8dc4690964d65fd688f7f44823bf0"
   }
  }
 },
 "nbformat": 4,
 "nbformat_minor": 4
}
