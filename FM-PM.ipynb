{
 "cells": [
  {
   "cell_type": "markdown",
   "id": "4bac1f3b-1adf-40cf-a92f-ef9293372a02",
   "metadata": {},
   "source": [
    "# Frequency Modulation"
   ]
  },
  {
   "cell_type": "code",
   "execution_count": null,
   "id": "cbea5329-4cba-4d88-8cbf-b56a3786968c",
   "metadata": {},
   "outputs": [],
   "source": [
    "from disiple.signals import AudioSignal, TimeSignal, Spectrum\n",
    "from disiple.util import nextpow2\n",
    "import numpy as np\n",
    "from scipy.signal import hilbert, sawtooth\n",
    "from bokeh.plotting import show\n",
    "from bokeh.layouts import row, column, gridplot\n",
    "from bokeh.models import CustomJS, Slider"
   ]
  },
  {
   "cell_type": "code",
   "execution_count": null,
   "id": "4822d149",
   "metadata": {},
   "outputs": [],
   "source": [
    "samplerate = 22050\n",
    "duration = nextpow2(samplerate) / samplerate # at least 1 second\n",
    "times = np.arange(0, duration, 1/samplerate)"
   ]
  },
  {
   "cell_type": "code",
   "execution_count": null,
   "id": "ce0b9f6e-1993-48ee-8ade-1a28c4a334da",
   "metadata": {},
   "outputs": [],
   "source": [
    "mod_idx = 3"
   ]
  },
  {
   "cell_type": "markdown",
   "id": "67bb423c-ef68-4f13-a886-351ed6143e28",
   "metadata": {},
   "source": [
    "### Modulating Signal"
   ]
  },
  {
   "cell_type": "code",
   "execution_count": null,
   "id": "e735d241-de81-44fc-bf18-7830e2e79ef3",
   "metadata": {},
   "outputs": [],
   "source": [
    "amp_mod = 1\n",
    "freq_mod = 220/duration\n",
    "# samples_mod = amp_mod * np.sin(2*np.pi*freq_mod*times) # FM & PM only differ in phase for sinusoidal messages\n",
    "samples_mod = np.clip(3*amp_mod*sawtooth(2*np.pi*freq_mod*times, width=0.5), -amp_mod, amp_mod)\n",
    "mod_signal = AudioSignal(samples_mod, samplerate)\n",
    "mod_spec = Spectrum.from_timesignal(mod_signal, dB=False)"
   ]
  },
  {
   "cell_type": "markdown",
   "id": "b728bc93-dd0e-4965-8a76-d2ce2f3045ba",
   "metadata": {},
   "source": [
    "### Carrier Signal"
   ]
  },
  {
   "cell_type": "code",
   "execution_count": null,
   "id": "08d94966-3e25-4b8d-ab3a-9188120802a0",
   "metadata": {},
   "outputs": [],
   "source": [
    "amp_carr = 1\n",
    "freq_carr = 2600\n",
    "samples_carr = amp_carr * np.sin(2*np.pi*freq_carr*times)\n",
    "carr_signal = AudioSignal(samples_carr, samplerate)\n",
    "carr_spec = Spectrum.from_timesignal(carr_signal, dB=False)"
   ]
  },
  {
   "cell_type": "markdown",
   "id": "8b9bf596-db9e-4ed7-aad5-1bd0f726ac0e",
   "metadata": {},
   "source": [
    "### Frequency Modulation"
   ]
  },
  {
   "cell_type": "code",
   "execution_count": null,
   "id": "cc963ca0",
   "metadata": {},
   "outputs": [],
   "source": [
    "samples_integral_mod = 2*np.pi*freq_mod * np.cumsum(samples_mod) / samplerate\n",
    "integral_mod_signal = TimeSignal(samples_integral_mod, samplerate)"
   ]
  },
  {
   "cell_type": "code",
   "execution_count": null,
   "id": "e8647553-b6be-446d-a347-d28046220c4c",
   "metadata": {},
   "outputs": [],
   "source": [
    "samples_fm = amp_carr * np.sin(2*np.pi*freq_carr*times + mod_idx * samples_integral_mod)\n",
    "fm_signal = AudioSignal(samples_fm, samplerate)\n",
    "fm_spec = Spectrum.from_timesignal(fm_signal, dB=False)\n",
    "# sensitivity_fm = mod_idx * freq_mod / amp_mod"
   ]
  },
  {
   "cell_type": "markdown",
   "id": "b79404f5",
   "metadata": {},
   "source": [
    "### Phase Modulation"
   ]
  },
  {
   "cell_type": "code",
   "execution_count": null,
   "id": "5873143f",
   "metadata": {},
   "outputs": [],
   "source": [
    "samples_pm = amp_carr * np.sin(2*np.pi*freq_carr*times + mod_idx * samples_mod)\n",
    "pm_signal = AudioSignal(samples_pm, samplerate)\n",
    "pm_spec = Spectrum.from_timesignal(pm_signal, dB=False)\n",
    "# sensitivity_pm = mod_idx / amp_mod"
   ]
  },
  {
   "cell_type": "markdown",
   "id": "754f5c21",
   "metadata": {},
   "source": [
    "### Frequency Demodulation"
   ]
  },
  {
   "cell_type": "code",
   "execution_count": null,
   "id": "13397504",
   "metadata": {},
   "outputs": [],
   "source": [
    "inst_angle = hilbert(samples_fm) * np.exp(2*np.pi*freq_carr*times*-1j)\n",
    "samples_fm_demod = np.diff(np.unwrap(np.angle(inst_angle))) * samplerate / (2*np.pi*mod_idx*freq_mod)\n",
    "samples_fm_demod = np.concatenate((samples_fm_demod[:1], samples_fm_demod))\n",
    "fm_demod_signal = AudioSignal(samples_fm_demod, samplerate)\n",
    "defm_spec = Spectrum.from_timesignal(fm_demod_signal, dB=False)"
   ]
  },
  {
   "cell_type": "markdown",
   "id": "6f3d62fe",
   "metadata": {},
   "source": [
    "### Phase Demodulation"
   ]
  },
  {
   "cell_type": "code",
   "execution_count": null,
   "id": "db4fe719",
   "metadata": {},
   "outputs": [],
   "source": [
    "init_phase = np.arccos(samples_carr[0]/amp_carr)\n",
    "inst_angle = hilbert(samples_pm) * np.exp((2*np.pi*freq_carr*times - init_phase)*-1j)\n",
    "samples_pm_demod = np.angle(inst_angle) / mod_idx\n",
    "pm_demod_signal = AudioSignal(samples_pm_demod, samplerate)\n",
    "depm_spec = Spectrum.from_timesignal(pm_demod_signal, dB=False)"
   ]
  },
  {
   "cell_type": "markdown",
   "id": "13c005bb-aed7-43af-83f8-567f5540a8ba",
   "metadata": {},
   "source": [
    "### Create Figures"
   ]
  },
  {
   "cell_type": "code",
   "execution_count": null,
   "id": "ff9df457-771b-45b2-b00b-719e023bb9cb",
   "metadata": {},
   "outputs": [],
   "source": [
    "time_range = (0, 6/freq_mod) # show first 6 periods of signal = 6 * 1/freq_mod\n",
    "mag_range = (0, 0.65)\n",
    "\n",
    "mod_fig = mod_signal.plot(title='Message Signal', x_range=time_range, active_inspect=None)\n",
    "mod_spec_fig = mod_spec.plot(title='Magnitude Spectrum of Message Signal', y_range=mag_range, active_inspect=None)\n",
    "carr_fig = carr_signal.plot(title='Carrier Signal', x_range=time_range, active_inspect=None, line_color='olive')\n",
    "carr_spec_fig = carr_spec.plot(title='Magnitude Spectrum of Carrier Signal', y_range=mag_range, active_inspect=None, line_color='olive')\n",
    "\n",
    "fm_fig = fm_signal.plot(title='Frequency Modulated Signal', legend_label='FM Signal', x_range=time_range, active_inspect=None, line_color='crimson')\n",
    "(amp_carr*mod_signal).plot(fig=fm_fig, legend_label='Message Signal')\n",
    "fm_fig.legend.location = 'bottom_right'\n",
    "fm_fig.legend.click_policy = 'hide'\n",
    "fm_spec_fig = fm_spec.plot(title='Magnitude Spectrum of FM Signal', y_range=mag_range, active_inspect=None, line_color='crimson')\n",
    "\n",
    "pm_fig = pm_signal.plot(title='Phase Modulated Signal', legend_label='PM Signal', x_range=time_range, active_inspect=None, line_color='purple')\n",
    "(amp_carr*mod_signal).plot(fig=pm_fig, legend_label='Message Signal')\n",
    "pm_fig.legend.location = 'bottom_right'\n",
    "pm_fig.legend.click_policy = 'hide'\n",
    "pm_spec_fig = pm_spec.plot(title='Magnitude Spectrum of PM Signal', y_range=mag_range, active_inspect=None, line_color='purple')\n",
    "\n",
    "fm_demod_fig = fm_demod_signal.plot(x_range=time_range, line_color='crimson', legend_label='Reconstructed Message of FM')\n",
    "fm_demod_fig.legend.location = 'bottom_right'\n",
    "fm_demod_fig.legend.click_policy = 'hide'\n",
    "mod_signal.plot(fig=fm_demod_fig, legend_label='Original Message', visible=False)\n",
    "defm_spec_fig = defm_spec.plot(title='Magnitude Spectrum of Reconstructed Message Signal of FM', y_range=mag_range, active_inspect=None, line_color='crimson')\n",
    "\n",
    "pm_demod_fig = pm_demod_signal.plot(x_range=time_range, line_color='purple', legend_label='Reconstructed Message of PM')\n",
    "pm_demod_fig.legend.location = 'bottom_right'\n",
    "pm_demod_fig.legend.click_policy = 'hide'\n",
    "mod_signal.plot(fig=pm_demod_fig, legend_label='Original Message', visible=False)\n",
    "depm_spec_fig = depm_spec.plot(title='Magnitude Spectrum of Reconstructed Message Signal of PM', y_range=mag_range, active_inspect=None, line_color='purple')"
   ]
  },
  {
   "cell_type": "markdown",
   "id": "30d911cb",
   "metadata": {},
   "source": [
    "### Link Time and Frequency Axes"
   ]
  },
  {
   "cell_type": "code",
   "execution_count": null,
   "id": "6f1d985b",
   "metadata": {},
   "outputs": [],
   "source": [
    "from itertools import product\n",
    "def link_x_axes(figs):\n",
    "    for fig1, fig2 in product(figs, figs):\n",
    "        fig1.x_range.js_link('start', fig2.x_range, 'start')\n",
    "        fig1.x_range.js_link('end', fig2.x_range, 'end')\n",
    "link_x_axes({mod_fig, carr_fig, fm_fig, pm_fig, fm_demod_fig, pm_demod_fig})\n",
    "link_x_axes({mod_spec_fig, carr_spec_fig, fm_spec_fig, pm_spec_fig, defm_spec_fig, depm_spec_fig})"
   ]
  },
  {
   "cell_type": "markdown",
   "id": "275a8877",
   "metadata": {},
   "source": [
    "### Display Figures"
   ]
  },
  {
   "cell_type": "code",
   "execution_count": null,
   "id": "5b8a994f-0222-4e6f-8841-cc6022eb32d9",
   "metadata": {},
   "outputs": [],
   "source": [
    "show(row(gridplot([mod_fig, carr_fig, fm_fig, pm_fig, fm_demod_fig, pm_demod_fig], ncols=1, width=700), gridplot([mod_spec_fig, carr_spec_fig, fm_spec_fig, pm_spec_fig, defm_spec_fig, depm_spec_fig], ncols=1, width=700)))"
   ]
  },
  {
   "cell_type": "markdown",
   "id": "19f68478",
   "metadata": {},
   "source": [
    "### Add Interaction"
   ]
  },
  {
   "cell_type": "code",
   "execution_count": null,
   "id": "6ca57406",
   "metadata": {},
   "outputs": [],
   "source": [
    "min_freq_mod, max_freq_mod = freq_mod / 2, 2 * freq_mod\n",
    "mod_idx_slider = Slider(start=0, end=10, value=mod_idx, step=.01, title='Modulation Index')\n",
    "amp_mod_slider = Slider(start=0, end=1, value=amp_mod, step=.01, title='Message Amplitude')\n",
    "freq_mod_slider = Slider(start=min_freq_mod, end=max_freq_mod, value=freq_mod, step=10, title='Message Frequency')\n",
    "amp_carr_slider = Slider(start=0, end=1, value=amp_carr, step=.01, title='Carrier Amplitude')\n",
    "freq_carr_slider = Slider(start=1000, end=min(4000, samplerate/2-max_freq_mod), value=freq_carr, step=100, title='Carrier Frequency')\n",
    "\n",
    "callback = CustomJS(args=dict(modSource=mod_fig.renderers[0].data_source,\n",
    "                              carrSource=carr_fig.renderers[0].data_source,\n",
    "                              fmSource=fm_fig.renderers[0].data_source,\n",
    "                            #   fmModSource=fm_fig.renderers[1].data_source,\n",
    "                              pmSource=pm_fig.renderers[0].data_source,\n",
    "                            #   pmModSource=pm_fig.renderers[1].data_source,\n",
    "                              modSpecSource=mod_spec_fig.renderers[0].data_source,\n",
    "                              carrSpecSource=carr_spec_fig.renderers[0].data_source,\n",
    "                              fmSpecSource=fm_spec_fig.renderers[0].data_source,\n",
    "                              pmSpecSource=pm_spec_fig.renderers[0].data_source,\n",
    "                              modSamples=samples_mod,\n",
    "                              samplerate=samplerate,\n",
    "                              modIdxSlider = mod_idx_slider,\n",
    "                              # ampModSlider=amp_mod_slider,\n",
    "                              ampMod = amp_mod,\n",
    "                              # freqModSlider=freq_mod_slider,\n",
    "                              freqMod = freq_mod,\n",
    "                              ampCarrSlider=amp_carr_slider,\n",
    "                              freqCarrSlider=freq_carr_slider,\n",
    "                             ), code=\"\"\"\n",
    "    const modIdx = modIdxSlider.value;\n",
    "    //const ampMod = ampModSlider.value;\n",
    "    const ampCarr = ampCarrSlider.value;\n",
    "    //const freqMod = freqModSlider.value;\n",
    "    const freqCarr = freqCarrSlider.value;\n",
    "\n",
    "    //const modSamples = modSource.data.x.map((t) => ampMod * Math.sin(2*Math.PI*freqMod*t));\n",
    "    //modSource.data = {'x': modSource.data.x, 'y': modSamples};\n",
    "    //const scaledModSamples = modSamples.map((t) => t * ampCarr);\n",
    "    //fmModSource.data = {'x': fmModSource.data.x, 'y': scaledModSamples};\n",
    "    //pmModSource.data = {'x': pmModSource.data.x, 'y': scaledModSamples};\n",
    "    const carrSamples = carrSource.data.x.map((t) => ampCarr * Math.sin(2*Math.PI*freqCarr*t));\n",
    "    carrSource.data = {'x': carrSource.data.x, 'y': carrSamples};\n",
    "\n",
    "    const cumSum = modSamples.map((sum => value => sum += value)(0));\n",
    "    const fmSamples = fmSource.data.x.map((t, idx) => ampCarr * Math.sin(2*Math.PI*freqCarr*t + modIdx * 2*Math.PI*freqMod*cumSum[idx]/samplerate));\n",
    "    fmSource.data = {'x': fmSource.data.x, 'y': fmSamples};\n",
    "    const pmSamples = pmSource.data.x.map((t, idx) => ampCarr * Math.sin(2*Math.PI*freqCarr*t + modIdx * modSamples[idx]));\n",
    "    pmSource.data = {'x': pmSource.data.x, 'y': pmSamples};\n",
    "\n",
    "    const freqs = fourier.rfftFreqs(samplerate);\n",
    "    modSpecSource.data = {'bin_unit': freqs, 'frequency': freqs, 'magnitude': fourier.magnitudeSpectrum(modSamples)};\n",
    "    carrSpecSource.data = {'bin_unit': freqs, 'frequency': freqs, 'magnitude': fourier.magnitudeSpectrum(carrSamples)};\n",
    "    fmSpecSource.data = {'bin_unit': freqs, 'frequency': freqs, 'magnitude': fourier.magnitudeSpectrum(fmSamples)};\n",
    "    pmSpecSource.data = {'bin_unit': freqs, 'frequency': freqs, 'magnitude': fourier.magnitudeSpectrum(pmSamples)};\n",
    "\"\"\")\n",
    "mod_idx_slider.js_on_change('value', callback)\n",
    "amp_mod_slider.js_on_change('value', callback)\n",
    "freq_mod_slider.js_on_change('value', callback)\n",
    "amp_carr_slider.js_on_change('value', callback)\n",
    "freq_carr_slider.js_on_change('value', callback)\n",
    "\n",
    "interative_plot = column(\n",
    "    row(gridplot([mod_fig, carr_fig], ncols=1, width=700), gridplot([mod_spec_fig, carr_spec_fig], ncols=1, width=700)),\n",
    "    row(mod_idx_slider, amp_carr_slider, freq_carr_slider),\n",
    "    row(gridplot([fm_fig, pm_fig], ncols=1, width=700), gridplot([fm_spec_fig, pm_spec_fig], ncols=1, width=700))\n",
    ")\n",
    "show(interative_plot)"
   ]
  },
  {
   "cell_type": "code",
   "execution_count": null,
   "id": "81038208",
   "metadata": {},
   "outputs": [],
   "source": [
    "from bokeh.plotting import save\n",
    "from bokeh.resources import INLINE\n",
    "template = f\"\"\"\n",
    "{{% block postamble %}}\n",
    "    <script src=\"fourier.js\"></script>\n",
    "    <script>const fourier = new Fourier({len(times)});</script>\n",
    "{{% endblock %}} \"\"\"\n",
    "save(interative_plot, filename='fm-pm.html', title='Frequency & Phase Modulation', resources=INLINE, template=template)"
   ]
  },
  {
   "cell_type": "code",
   "execution_count": null,
   "id": "a80030e9",
   "metadata": {},
   "outputs": [],
   "source": []
  }
 ],
 "metadata": {
  "kernelspec": {
   "display_name": "Python 3 (ipykernel)",
   "language": "python",
   "name": "python3"
  },
  "language_info": {
   "codemirror_mode": {
    "name": "ipython",
    "version": 3
   },
   "file_extension": ".py",
   "mimetype": "text/x-python",
   "name": "python",
   "nbconvert_exporter": "python",
   "pygments_lexer": "ipython3",
   "version": "3.10.8"
  },
  "vscode": {
   "interpreter": {
    "hash": "fabffcacf106ad9540f378a406d8ad6ee7071176093cdecf1b15ca2578bc8783"
   }
  }
 },
 "nbformat": 4,
 "nbformat_minor": 5
}
