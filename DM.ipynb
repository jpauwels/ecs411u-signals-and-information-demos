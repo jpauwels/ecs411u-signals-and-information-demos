{
 "cells": [
  {
   "cell_type": "markdown",
   "id": "4bac1f3b-1adf-40cf-a92f-ef9293372a02",
   "metadata": {},
   "source": [
    "# Digital Modulation (ASK-FSK-BPSK)"
   ]
  },
  {
   "cell_type": "code",
   "execution_count": null,
   "id": "cbea5329-4cba-4d88-8cbf-b56a3786968c",
   "metadata": {},
   "outputs": [],
   "source": [
    "from disiple.signals import TimeSignal, Spectrum\n",
    "import numpy as np\n",
    "from bokeh.plotting import show\n",
    "from bokeh.layouts import row, gridplot"
   ]
  },
  {
   "cell_type": "code",
   "execution_count": null,
   "id": "2b3080b1",
   "metadata": {},
   "outputs": [],
   "source": [
    "samples_per_bit = 1000\n",
    "bit_interval = 1e-9 # [seconds per bit]\n",
    "bit_rate = 1 / bit_interval # [bits per second]\n",
    "sample_rate = samples_per_bit * bit_rate # [samples per second=Hz]"
   ]
  },
  {
   "cell_type": "markdown",
   "id": "67bb423c-ef68-4f13-a886-351ed6143e28",
   "metadata": {},
   "source": [
    "### Message Signal"
   ]
  },
  {
   "cell_type": "code",
   "execution_count": null,
   "id": "e735d241-de81-44fc-bf18-7830e2e79ef3",
   "metadata": {},
   "outputs": [],
   "source": [
    "bit_stream = [0, 0, 0, 1, 1, 0, 1, 1]\n",
    "samples_mod = np.repeat(bit_stream, samples_per_bit)\n",
    "mod_signal = TimeSignal(samples_mod, sample_rate)\n",
    "mod_spec = Spectrum.from_timesignal(mod_signal, dB=False)"
   ]
  },
  {
   "cell_type": "markdown",
   "id": "5445e978",
   "metadata": {},
   "source": [
    "### Carrier Signal"
   ]
  },
  {
   "cell_type": "code",
   "execution_count": null,
   "id": "a5ecbe10",
   "metadata": {},
   "outputs": [],
   "source": [
    "amp_carr = 1\n",
    "freq_carr = 3 * bit_rate\n",
    "times = np.arange(0, len(bit_stream) * bit_interval, 1 / sample_rate)\n",
    "samples_carr = amp_carr * np.sin(2*np.pi*freq_carr*times)\n",
    "carr_signal = TimeSignal(samples_carr, sample_rate)\n",
    "carr_spec = Spectrum.from_timesignal(carr_signal, dB=False)"
   ]
  },
  {
   "cell_type": "markdown",
   "id": "5623f20f",
   "metadata": {},
   "source": [
    "### Amplitude Shift Keying"
   ]
  },
  {
   "cell_type": "code",
   "execution_count": null,
   "id": "a2e86239",
   "metadata": {},
   "outputs": [],
   "source": [
    "samples_ask = np.where(samples_mod == 1, samples_carr, 0)\n",
    "ask_signal = TimeSignal(samples_ask, sample_rate)\n",
    "ask_spec = Spectrum.from_timesignal(ask_signal, dB=False)"
   ]
  },
  {
   "cell_type": "markdown",
   "id": "b5d872c7",
   "metadata": {},
   "source": [
    "### Frequency Shift Keying"
   ]
  },
  {
   "cell_type": "code",
   "execution_count": null,
   "id": "469253bb",
   "metadata": {},
   "outputs": [],
   "source": [
    "freq_carr2 = 2 * bit_rate\n",
    "samples_carr2 = amp_carr * np.sin(2*np.pi*freq_carr2*times)\n",
    "samples_fsk = np.where(samples_mod == 1, samples_carr, samples_carr2)\n",
    "fsk_signal = TimeSignal(samples_fsk, sample_rate)\n",
    "fsk_spec = Spectrum.from_timesignal(fsk_signal, dB=False)"
   ]
  },
  {
   "cell_type": "markdown",
   "id": "ba9b9716",
   "metadata": {},
   "source": [
    "### Binary Phase Shift Keying"
   ]
  },
  {
   "cell_type": "code",
   "execution_count": null,
   "id": "c329e221",
   "metadata": {},
   "outputs": [],
   "source": [
    "samples_bpsk = np.where(samples_mod == 1, samples_carr, -samples_carr)\n",
    "bpsk_signal = TimeSignal(samples_bpsk, sample_rate)\n",
    "bpsk_spec = Spectrum.from_timesignal(bpsk_signal, dB=False)"
   ]
  },
  {
   "cell_type": "markdown",
   "id": "13c005bb-aed7-43af-83f8-567f5540a8ba",
   "metadata": {},
   "source": [
    "### Create Figures"
   ]
  },
  {
   "cell_type": "code",
   "execution_count": null,
   "id": "5b8a994f-0222-4e6f-8841-cc6022eb32d9",
   "metadata": {},
   "outputs": [],
   "source": [
    "mag_range = (0, amp_carr/2 * 1.05)\n",
    "freq_range = (0, 2e10)\n",
    "\n",
    "mod_fig = mod_signal.plot(title='Message Signal', active_inspect=None)\n",
    "mod_spec_fig = mod_spec.plot(title='Magnitude Spectrum of Message Signal', x_range=freq_range, y_range=mag_range, active_inspect=None)\n",
    "carr_fig = carr_signal.plot(title='Carrier Signal', active_inspect=None, line_color='olive')\n",
    "carr_spec_fig = carr_spec.plot(title='Magnitude Spectrum of Carrier Signal', x_range=freq_range, y_range=mag_range, active_inspect=None, line_color='olive')\n",
    "ask_fig = ask_signal.plot(title='ASK Signal', active_inspect=None, line_color='darkgoldenrod')\n",
    "ask_spec_fig = ask_spec.plot(title='Magnitude Spectrum of ASK Signal', x_range=freq_range, y_range=mag_range, active_inspect=None, line_color='darkgoldenrod')\n",
    "fsk_fig = fsk_signal.plot(title='FSK Signal', active_inspect=None, line_color='crimson')\n",
    "fsk_spec_fig = fsk_spec.plot(title='Magnitude Spectrum of FSK Signal', x_range=freq_range, y_range=mag_range, active_inspect=None, line_color='crimson')\n",
    "bpsk_fig = bpsk_signal.plot(title='BPSK Signal', active_inspect=None, line_color='purple')\n",
    "bpsk_spec_fig = bpsk_spec.plot(title='Magnitude Spectrum of BPSK Signal', x_range=freq_range, y_range=mag_range, active_inspect=None, line_color='purple')"
   ]
  },
  {
   "cell_type": "markdown",
   "id": "a400ec1e",
   "metadata": {},
   "source": [
    "### Link Frequency Axes"
   ]
  },
  {
   "cell_type": "code",
   "execution_count": null,
   "id": "636b69a0",
   "metadata": {},
   "outputs": [],
   "source": [
    "from itertools import product\n",
    "def link_x_axes(figs):\n",
    "    for fig1, fig2 in product(figs, figs):\n",
    "        fig1.x_range.js_link('start', fig2.x_range, 'start')\n",
    "        fig1.x_range.js_link('end', fig2.x_range, 'end')\n",
    "link_x_axes({mod_spec_fig, carr_spec_fig, ask_spec_fig, fsk_spec_fig, bpsk_spec_fig})"
   ]
  },
  {
   "cell_type": "markdown",
   "id": "463ef490",
   "metadata": {},
   "source": [
    "### Display Figures"
   ]
  },
  {
   "cell_type": "code",
   "execution_count": null,
   "id": "e82490a9",
   "metadata": {},
   "outputs": [],
   "source": [
    "plot = row(\n",
    "    gridplot([mod_fig, carr_fig, ask_fig, fsk_fig, bpsk_fig], ncols=1, width=700),\n",
    "    gridplot([mod_spec_fig, carr_spec_fig, ask_spec_fig, fsk_spec_fig, bpsk_spec_fig], ncols=1, width=700),\n",
    ")\n",
    "show(plot)"
   ]
  },
  {
   "cell_type": "code",
   "execution_count": null,
   "id": "e8241d71",
   "metadata": {},
   "outputs": [],
   "source": [
    "from bokeh.plotting import save\n",
    "from bokeh.resources import INLINE\n",
    "save(plot, filename='dm.html', title='Digital Modulation', resources=INLINE)"
   ]
  },
  {
   "cell_type": "code",
   "execution_count": null,
   "id": "32a086d6",
   "metadata": {},
   "outputs": [],
   "source": []
  }
 ],
 "metadata": {
  "kernelspec": {
   "display_name": "Python 3 (ipykernel)",
   "language": "python",
   "name": "python3"
  },
  "language_info": {
   "codemirror_mode": {
    "name": "ipython",
    "version": 3
   },
   "file_extension": ".py",
   "mimetype": "text/x-python",
   "name": "python",
   "nbconvert_exporter": "python",
   "pygments_lexer": "ipython3",
   "version": "3.10.8"
  },
  "vscode": {
   "interpreter": {
    "hash": "fabffcacf106ad9540f378a406d8ad6ee7071176093cdecf1b15ca2578bc8783"
   }
  }
 },
 "nbformat": 4,
 "nbformat_minor": 5
}
